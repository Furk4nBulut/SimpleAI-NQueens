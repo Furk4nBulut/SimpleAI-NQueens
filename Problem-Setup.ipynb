{
 "cells": [
  {
   "cell_type": "markdown",
   "metadata": {},
   "source": [
    "# AI PA1: NQueens\n",
    "**Group members:**\n",
    "- Furkan Bulut, 210316011\n",
    "- İsmet Eren Yurtcu, 210316028\n",
    "- Gonca Arabacı, 210316067\n",
    "\n",
    "\n",
    "**Readme**\n",
    "\n",
    "Give some information about your Python version, development environment, etc.\n",
    "Pycharm, Python 3.11.5\n",
    "\n",
    "## Part 1: Class definition\n",
    "\n",
    "This is the part that you will implement. See the comments in the code and read the assignment description."
   ]
  },
  {
   "cell_type": "code",
   "execution_count": 1,
   "metadata": {
    "ExecuteTime": {
     "end_time": "2023-11-17T11:21:20.108081200Z",
     "start_time": "2023-11-17T11:21:20.096163300Z"
    }
   },
   "outputs": [],
   "source": [
    "#import files if needed\n",
    "import random\n",
    "#class definition for NQueens\n",
    "class NQueens():\n",
    "    \"\"\" class constructor\n",
    "    initializes the instance attributes N and state \"\"\"\n",
    "    def __init__(self, N):\n",
    "        self.N = N #Detemines number of queen and board size\n",
    "        self.state = self._set_state() # state cannot be greater than N\n",
    "        \n",
    "    \"\"\" returns a formatted string\n",
    "    that represents the instance \"\"\"        \n",
    "    def __str__(self):\n",
    "        return f\"N: {self.N}\\nstate: {self.state}\"\n",
    "\n",
    "    \"\"\" Sets the instance attribute state by displaying \n",
    "    a menu to the user. The user either enters the state \n",
    "    manually or prompts the system to generate a random state.\n",
    "    Check if the input state is a valid state. \"\"\"         \n",
    "    def _set_state(self):\n",
    "        print(self.N)\n",
    "        print(\"How do you want to set state?\")\n",
    "        print(\"1. Set state manually\")\n",
    "        print(\"2. Set state randomly\")\n",
    "        state_choice = int(input(\"Enter Selection\"))\n",
    "        \n",
    "        if state_choice == 1:\n",
    "            print(\"Enter state: \")\n",
    "            state = input()\n",
    "            is_valid = self._is_valid(state)\n",
    "            if is_valid:\n",
    "                return state\n",
    "            else:\n",
    "                print(\"Invalid state! Please try again...\")\n",
    "                return  self._set_state()\n",
    "        elif state_choice == 2:\n",
    "            state = self.generate_random_state()\n",
    "            return state\n",
    "        else:\n",
    "            print(\"Invalid Selection! Please input again...\")\n",
    "            return self._set_state()\n",
    "            \n",
    "\n",
    "    \"\"\" generates and returns a valid random state \"\"\"\n",
    "    def generate_random_state(self):\n",
    "        state = [random.randint(1,self.N) for i in range(self.N)] #state cannot be greater than N and smaller than 1\n",
    "        return state\n",
    "    \n",
    "    \"\"\" This is an internal function that takes a state as input\n",
    "    and return if this is a valid state or not \"\"\"\n",
    "    def _is_valid(self,state):\n",
    "        if len(state) > self.N and len(state)!=self.N : #state length cannot be greater than N\n",
    "            print(\"Invalid state input. Error Code 1\")\n",
    "            return False\n",
    "        elif state.isdigit() == False: #state must be integer\n",
    "            print(\"Invalid state input. Error Code 2\")\n",
    "            return False\n",
    "        elif int(min(state))>1 and int(max(state)) > self.N:\n",
    "            # the included number of a state cannot be greater than N. Or cannot be smaller than 0 . (123457) N=6 it is not possible\n",
    "            print(\"Invalid state input. Error Code 3\")\n",
    "            return False\n",
    "        else: \n",
    "            return True\n",
    "            \n",
    "\n",
    "    \"\"\" This is the primary function of this class.\n",
    "    It returns the number of attacking pairs in the given state board.\n",
    "    \"\"\"  \n",
    "    def _count_attacking_pairs(self, state):\n",
    "        state = [int(s) for s in state]  # Convert integers\n",
    "        num_pairs = 0\n",
    "    \n",
    "        for i in range(self.N): # For each column\n",
    "            for j in range(i + 1, self.N): # For each column after the current column\n",
    "                # Column attack check\n",
    "                if state[i] == state[j]: # If the queens are in the same row\n",
    "                    num_pairs += 1 # Add 1 to the number of attacking pairs\n",
    "                    \n",
    "                # Diagonal attack check (both directions) \n",
    "                if abs(state[i] - state[j]) == abs(i - j): # If the queens are in the same diagonal\n",
    "                    num_pairs += 1 # Add 1 to the number of attacking pairs\n",
    "\n",
    "        \n",
    "        print(\"Number of attacking pairs:\", num_pairs) \n",
    "        return num_pairs\n",
    "\n"
   ]
  },
  {
   "cell_type": "markdown",
   "metadata": {},
   "source": [
    "## Part 2: Testing\n",
    "\n",
    "Do not change this part. This is the test code."
   ]
  },
  {
   "cell_type": "code",
   "execution_count": 2,
   "metadata": {
    "ExecuteTime": {
     "end_time": "2023-11-17T11:21:29.717087200Z",
     "start_time": "2023-11-17T11:21:20.101948Z"
    }
   },
   "outputs": [
    {
     "name": "stdout",
     "output_type": "stream",
     "text": [
      "5\n",
      "How do you want to set state?\n",
      "1. Set state manually\n",
      "2. Set state randomly\n",
      "Enter state: \n",
      "N: 5\n",
      "state: 13452\n",
      "Number of attacking pairs: 4\n",
      "4\n"
     ]
    }
   ],
   "source": [
    "# This is a test code. You can try with different N values and states.\n",
    "problem = NQueens(int(input(\"Input the board size (N)\"))) #create NQueens instance\n",
    "print(problem) #print the description of the problem\n",
    "print(problem._count_attacking_pairs(problem.state)) #print the total number of attacking pairs in the board"
   ]
  },
  {
   "cell_type": "code",
   "execution_count": 105,
   "metadata": {
    "ExecuteTime": {
     "end_time": "2023-11-17T09:01:38.078434600Z",
     "start_time": "2023-11-17T09:01:38.058570900Z"
    },
    "collapsed": false
   },
   "outputs": [],
   "source": []
  }
 ],
 "metadata": {
  "interpreter": {
   "hash": "e922dd073470bdcc017ae3abd31d6491d6ed7bf31c1d559806e5511bfea88b81"
  },
  "kernelspec": {
   "display_name": "Python 3 (ipykernel)",
   "language": "python",
   "name": "python3"
  },
  "language_info": {
   "codemirror_mode": {
    "name": "ipython",
    "version": 3
   },
   "file_extension": ".py",
   "mimetype": "text/x-python",
   "name": "python",
   "nbconvert_exporter": "python",
   "pygments_lexer": "ipython3",
   "version": "3.8.5"
  },
  "orig_nbformat": 4
 },
 "nbformat": 4,
 "nbformat_minor": 2
}
