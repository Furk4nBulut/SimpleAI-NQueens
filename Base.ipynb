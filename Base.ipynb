{
 "cells": [
  {
   "cell_type": "markdown",
   "metadata": {},
   "source": [
    "# AI PA1: NQueens\n",
    "**Group members:**\n",
    "- Name1 Surname1, ID1\n",
    "- Name2 Surname2, ID2\n",
    "- Name3 Surname3, ID3\n",
    "\n",
    "**Readme**\n",
    "\n",
    "Give some information about your Python version, development environment, etc.\n",
    "\n",
    "## Part 1: Class definition\n",
    "\n",
    "This is the part that you will implement. See the comments in the code and read the assignment description."
   ]
  },
  {
   "cell_type": "code",
   "execution_count": 6,
   "metadata": {},
   "outputs": [],
   "source": [
    "#import files if needed\n",
    "\n",
    "#class definition for NQueens\n",
    "class NQueens():\n",
    "    \"\"\" class constructor\n",
    "    initializes the instance attributes N and state \"\"\"\n",
    "    def __init__(self, N):\n",
    "        pass #Don't forget to delete this statement\n",
    "\n",
    "    \"\"\" returns a formatted string\n",
    "    that represents the instance \"\"\"        \n",
    "    def __str__(self):\n",
    "        pass #Don't forget to delete this statement\n",
    "\n",
    "    \"\"\" Sets the instance attribute state by displaying \n",
    "    a menu to the user. The user either enters the state \n",
    "    manually or prompts the system to generate a random state.\n",
    "    Check if the input state is a valid state. \"\"\"         \n",
    "    def _set_state(self):\n",
    "        pass #Don't forget to delete this statement   \n",
    "\n",
    "    \"\"\" generates and returns a valid random state \"\"\"\n",
    "    def generate_random_state(self):\n",
    "        pass #Don't forget to delete this statement    \n",
    "    \n",
    "    \"\"\" This is an internal function that takes a state as input\n",
    "    and return if this is a valid state or not \"\"\"\n",
    "    def _is_valid(self,state):\n",
    "        pass #Don't forget to delete this statement\n",
    "\n",
    "    \"\"\" This is the primary function of this class.\n",
    "    It returns the number of attacking pairs in the given state board.\n",
    "    \"\"\"  \n",
    "    def _count_attacking_pairs(self, state):\n",
    "        pass #Don't forget to delete this statement"
   ]
  },
  {
   "cell_type": "markdown",
   "metadata": {},
   "source": [
    "## Part 2: Testing\n",
    "\n",
    "Do not change this part. This is the test code."
   ]
  },
  {
   "cell_type": "code",
   "execution_count": null,
   "metadata": {},
   "outputs": [],
   "source": [
    "# This is a test code. You can try with different N values and states.\n",
    "problem = NQueens(5) #create NQueens instance\n",
    "print(problem) #print the description of the problem\n",
    "print(problem._count_attacking_pairs(problem.state)) #print the total number of attacking pairs in the board"
   ]
  }
 ],
 "metadata": {
  "interpreter": {
   "hash": "e922dd073470bdcc017ae3abd31d6491d6ed7bf31c1d559806e5511bfea88b81"
  },
  "kernelspec": {
   "display_name": "Python 3.8.5 64-bit",
   "name": "python3"
  },
  "language_info": {
   "codemirror_mode": {
    "name": "ipython",
    "version": 3
   },
   "file_extension": ".py",
   "mimetype": "text/x-python",
   "name": "python",
   "nbconvert_exporter": "python",
   "pygments_lexer": "ipython3",
   "version": "3.8.5"
  },
  "orig_nbformat": 4
 },
 "nbformat": 4,
 "nbformat_minor": 2
}
